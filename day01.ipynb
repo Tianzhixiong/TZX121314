{
 "cells": [
  {
   "cell_type": "code",
   "execution_count": 1,
   "metadata": {},
   "outputs": [
    {
     "ename": "SyntaxError",
     "evalue": "invalid character in identifier (<ipython-input-1-15bf01b12d5d>, line 20)",
     "output_type": "error",
     "traceback": [
      "\u001b[1;36m  File \u001b[1;32m\"<ipython-input-1-15bf01b12d5d>\"\u001b[1;36m, line \u001b[1;32m20\u001b[0m\n\u001b[1;33m    ​\u001b[0m\n\u001b[1;37m    ^\u001b[0m\n\u001b[1;31mSyntaxError\u001b[0m\u001b[1;31m:\u001b[0m invalid character in identifier\n"
     ]
    }
   ],
   "source": [
    "file='D:\\\\ANA\\\\kaifangX.txt'\n",
    "open_file=open(file,mode='r',encoding='gbk')\n",
    "line = open_file.readline()\n",
    "print(line)\n",
    "strip_line = line.strip('\\n')\n",
    "print(strip_line)\n",
    "split_line = line.split(',')\n",
    "print(split_line)\n",
    "print(type(split_line))\n",
    "name = split_line[0]\n",
    "print(name)\n",
    "Email = split_line[9]\n",
    "print(Email)\n",
    "kong=''\n",
    "for i in Email:\n",
    "    jiami = chr(ord(i)+6)\n",
    "    kong = kong+jiami\n",
    "print(kong)\n",
    "print(chenmeng+'-'+kong)\n",
    "​\n",
    "            \n",
    "open_file.close()"
   ]
  },
  {
   "cell_type": "code",
   "execution_count": null,
   "metadata": {},
   "outputs": [],
   "source": []
  }
 ],
 "metadata": {
  "kernelspec": {
   "display_name": "Python 3",
   "language": "python",
   "name": "python3"
  },
  "language_info": {
   "codemirror_mode": {
    "name": "ipython",
    "version": 3
   },
   "file_extension": ".py",
   "mimetype": "text/x-python",
   "name": "python",
   "nbconvert_exporter": "python",
   "pygments_lexer": "ipython3",
   "version": "3.6.4"
  }
 },
 "nbformat": 4,
 "nbformat_minor": 2
}
